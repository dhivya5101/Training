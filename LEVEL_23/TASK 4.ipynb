{
 "cells": [
  {
   "cell_type": "code",
   "execution_count": 1,
   "id": "1b6993e7-fdf6-4851-9240-68d4377f557d",
   "metadata": {},
   "outputs": [
    {
     "name": "stdout",
     "output_type": "stream",
     "text": [
      "Requirement already satisfied: imbalanced-learn in c:\\users\\lenovo\\anaconda3\\lib\\site-packages (0.13.0)\n",
      "Requirement already satisfied: numpy<3,>=1.24.3 in c:\\users\\lenovo\\anaconda3\\lib\\site-packages (from imbalanced-learn) (1.26.4)\n",
      "Requirement already satisfied: scipy<2,>=1.10.1 in c:\\users\\lenovo\\anaconda3\\lib\\site-packages (from imbalanced-learn) (1.15.2)\n",
      "Requirement already satisfied: scikit-learn<2,>=1.3.2 in c:\\users\\lenovo\\anaconda3\\lib\\site-packages (from imbalanced-learn) (1.6.1)\n",
      "Requirement already satisfied: sklearn-compat<1,>=0.1 in c:\\users\\lenovo\\anaconda3\\lib\\site-packages (from imbalanced-learn) (0.1.3)\n",
      "Requirement already satisfied: joblib<2,>=1.1.1 in c:\\users\\lenovo\\anaconda3\\lib\\site-packages (from imbalanced-learn) (1.4.2)\n",
      "Requirement already satisfied: threadpoolctl<4,>=2.0.0 in c:\\users\\lenovo\\anaconda3\\lib\\site-packages (from imbalanced-learn) (3.6.0)\n"
     ]
    }
   ],
   "source": [
    "!pip install imbalanced-learn\n"
   ]
  },
  {
   "cell_type": "code",
   "execution_count": 3,
   "id": "4d7e6e9e-1e23-4241-922b-bed3e46d967a",
   "metadata": {},
   "outputs": [],
   "source": [
    "import pandas as pd\n",
    "import numpy as np\n",
    "from sklearn.model_selection import train_test_split\n",
    "from sklearn.preprocessing import StandardScaler\n",
    "from sklearn.metrics import classification_report\n",
    "from imblearn.over_sampling import SMOTE\n",
    "from tensorflow.keras.models import Sequential\n",
    "from tensorflow.keras.layers import Dense\n",
    "from tensorflow.keras.optimizers import Adam"
   ]
  },
  {
   "cell_type": "code",
   "execution_count": 5,
   "id": "e318e9f5-d255-4a45-a74a-f279b8f2641a",
   "metadata": {},
   "outputs": [
    {
     "data": {
      "text/html": [
       "<div>\n",
       "<style scoped>\n",
       "    .dataframe tbody tr th:only-of-type {\n",
       "        vertical-align: middle;\n",
       "    }\n",
       "\n",
       "    .dataframe tbody tr th {\n",
       "        vertical-align: top;\n",
       "    }\n",
       "\n",
       "    .dataframe thead th {\n",
       "        text-align: right;\n",
       "    }\n",
       "</style>\n",
       "<table border=\"1\" class=\"dataframe\">\n",
       "  <thead>\n",
       "    <tr style=\"text-align: right;\">\n",
       "      <th></th>\n",
       "      <th>TransactionID</th>\n",
       "      <th>TransactionDate</th>\n",
       "      <th>Amount</th>\n",
       "      <th>MerchantID</th>\n",
       "      <th>TransactionType</th>\n",
       "      <th>Location</th>\n",
       "      <th>IsFraud</th>\n",
       "    </tr>\n",
       "  </thead>\n",
       "  <tbody>\n",
       "    <tr>\n",
       "      <th>0</th>\n",
       "      <td>1</td>\n",
       "      <td>2024-04-03 14:15:35.462794</td>\n",
       "      <td>4189.27</td>\n",
       "      <td>688</td>\n",
       "      <td>refund</td>\n",
       "      <td>San Antonio</td>\n",
       "      <td>0</td>\n",
       "    </tr>\n",
       "    <tr>\n",
       "      <th>1</th>\n",
       "      <td>2</td>\n",
       "      <td>2024-03-19 13:20:35.462824</td>\n",
       "      <td>2659.71</td>\n",
       "      <td>109</td>\n",
       "      <td>refund</td>\n",
       "      <td>Dallas</td>\n",
       "      <td>0</td>\n",
       "    </tr>\n",
       "    <tr>\n",
       "      <th>2</th>\n",
       "      <td>3</td>\n",
       "      <td>2024-01-08 10:08:35.462834</td>\n",
       "      <td>784.00</td>\n",
       "      <td>394</td>\n",
       "      <td>purchase</td>\n",
       "      <td>New York</td>\n",
       "      <td>0</td>\n",
       "    </tr>\n",
       "    <tr>\n",
       "      <th>3</th>\n",
       "      <td>4</td>\n",
       "      <td>2024-04-13 23:50:35.462850</td>\n",
       "      <td>3514.40</td>\n",
       "      <td>944</td>\n",
       "      <td>purchase</td>\n",
       "      <td>Philadelphia</td>\n",
       "      <td>0</td>\n",
       "    </tr>\n",
       "    <tr>\n",
       "      <th>4</th>\n",
       "      <td>5</td>\n",
       "      <td>2024-07-12 18:51:35.462858</td>\n",
       "      <td>369.07</td>\n",
       "      <td>475</td>\n",
       "      <td>purchase</td>\n",
       "      <td>Phoenix</td>\n",
       "      <td>0</td>\n",
       "    </tr>\n",
       "  </tbody>\n",
       "</table>\n",
       "</div>"
      ],
      "text/plain": [
       "   TransactionID             TransactionDate   Amount  MerchantID  \\\n",
       "0              1  2024-04-03 14:15:35.462794  4189.27         688   \n",
       "1              2  2024-03-19 13:20:35.462824  2659.71         109   \n",
       "2              3  2024-01-08 10:08:35.462834   784.00         394   \n",
       "3              4  2024-04-13 23:50:35.462850  3514.40         944   \n",
       "4              5  2024-07-12 18:51:35.462858   369.07         475   \n",
       "\n",
       "  TransactionType      Location  IsFraud  \n",
       "0          refund   San Antonio        0  \n",
       "1          refund        Dallas        0  \n",
       "2        purchase      New York        0  \n",
       "3        purchase  Philadelphia        0  \n",
       "4        purchase       Phoenix        0  "
      ]
     },
     "execution_count": 5,
     "metadata": {},
     "output_type": "execute_result"
    }
   ],
   "source": [
    "df=pd.read_csv(\"credit_card_fraud_dataset.csv\")\n",
    "df.head()"
   ]
  },
  {
   "cell_type": "code",
   "execution_count": 7,
   "id": "d29ae1aa-7d2c-4151-ba2f-eb09ce0ef2ce",
   "metadata": {},
   "outputs": [],
   "source": [
    "df.drop(columns=['TransactionID', 'TransactionDate'], inplace=True)\n",
    "df = pd.get_dummies(df)  \n",
    "X = df.drop('IsFraud', axis=1)\n",
    "y = df['IsFraud']\n",
    "\n",
    "X_train, X_test, y_train, y_test = train_test_split(X, y, stratify=y, test_size=0.2, random_state=42)"
   ]
  },
  {
   "cell_type": "code",
   "execution_count": 9,
   "id": "313392c3-adc6-43c6-8e2c-cffced01dd4e",
   "metadata": {},
   "outputs": [],
   "source": [
    "scaler = StandardScaler()\n",
    "X_train_scaled = scaler.fit_transform(X_train)\n",
    "X_test_scaled = scaler.transform(X_test)\n",
    "\n",
    "def build_ann(input_shape):\n",
    "    model = Sequential([\n",
    "        Dense(32, activation='relu', input_shape=(input_shape,)),\n",
    "        Dense(16, activation='relu'),\n",
    "        Dense(1, activation='sigmoid')\n",
    "    ])\n",
    "    model.compile(optimizer=Adam(), loss='binary_crossentropy', metrics=['accuracy'])\n",
    "    return model"
   ]
  },
  {
   "cell_type": "code",
   "execution_count": 15,
   "id": "dc1467cb-5892-48ed-8cf6-8105817d9c8f",
   "metadata": {},
   "outputs": [
    {
     "name": "stdout",
     "output_type": "stream",
     "text": [
      "\u001b[1m625/625\u001b[0m \u001b[32m━━━━━━━━━━━━━━━━━━━━\u001b[0m\u001b[37m\u001b[0m \u001b[1m0s\u001b[0m 584us/step\n",
      "\n",
      " Classification Report (Before Balancing):\n",
      "              precision    recall  f1-score   support\n",
      "\n",
      "           0       0.99      1.00      0.99     19800\n",
      "           1       0.00      0.00      0.00       200\n",
      "\n",
      "    accuracy                           0.99     20000\n",
      "   macro avg       0.49      0.50      0.50     20000\n",
      "weighted avg       0.98      0.99      0.99     20000\n",
      "\n"
     ]
    }
   ],
   "source": [
    "import warnings\n",
    "warnings.filterwarnings('ignore')\n",
    "model_base = build_ann(X_train_scaled.shape[1])\n",
    "model_base.fit(X_train_scaled, y_train, epochs=10, batch_size=32, verbose=0)\n",
    "y_pred_base = (model_base.predict(X_test_scaled) > 0.5).astype(\"int32\")\n",
    "\n",
    "print(\"\\n Classification Report (Before Balancing):\")\n",
    "report_before = classification_report(y_test, y_pred_base, output_dict=True)\n",
    "print(classification_report(y_test, y_pred_base))"
   ]
  },
  {
   "cell_type": "code",
   "execution_count": 17,
   "id": "cead4a4d-bde3-4386-b6fd-5e04777393a7",
   "metadata": {},
   "outputs": [
    {
     "name": "stdout",
     "output_type": "stream",
     "text": [
      "\u001b[1m625/625\u001b[0m \u001b[32m━━━━━━━━━━━━━━━━━━━━\u001b[0m\u001b[37m\u001b[0m \u001b[1m0s\u001b[0m 705us/step\n",
      "\n",
      "Classification Report (After Balancing with SMOTE):\n",
      "              precision    recall  f1-score   support\n",
      "\n",
      "           0       0.99      0.61      0.76     19800\n",
      "           1       0.01      0.40      0.02       200\n",
      "\n",
      "    accuracy                           0.61     20000\n",
      "   macro avg       0.50      0.50      0.39     20000\n",
      "weighted avg       0.98      0.61      0.75     20000\n",
      "\n"
     ]
    }
   ],
   "source": [
    "sm = SMOTE(random_state=42)\n",
    "X_train_bal, y_train_bal = sm.fit_resample(X_train_scaled, y_train)\n",
    "\n",
    "model_bal = build_ann(X_train_bal.shape[1])\n",
    "model_bal.fit(X_train_bal, y_train_bal, epochs=10, batch_size=32, verbose=0)\n",
    "y_pred_bal = (model_bal.predict(X_test_scaled) > 0.5).astype(\"int32\")\n",
    "\n",
    "print(\"\\nClassification Report (After Balancing with SMOTE):\")\n",
    "report_after = classification_report(y_test, y_pred_bal, output_dict=True)\n",
    "print(classification_report(y_test, y_pred_bal))\n"
   ]
  },
  {
   "cell_type": "code",
   "execution_count": 19,
   "id": "de45c768-744d-419e-8cc6-6c887d2d4b15",
   "metadata": {},
   "outputs": [
    {
     "name": "stdout",
     "output_type": "stream",
     "text": [
      "\n",
      " Performance Comparison:\n",
      "   Metric  Before Balancing  After SMOTE\n",
      "Precision               0.0       0.0102\n",
      "   Recall               0.0       0.3950\n",
      " F1-Score               0.0       0.0200\n"
     ]
    }
   ],
   "source": [
    "comparison = pd.DataFrame({\n",
    "    'Metric': ['Precision', 'Recall', 'F1-Score'],\n",
    "    'Before Balancing': [\n",
    "        round(report_before['1']['precision'], 4),\n",
    "        round(report_before['1']['recall'], 4),\n",
    "        round(report_before['1']['f1-score'], 4)\n",
    "    ],\n",
    "    'After SMOTE': [\n",
    "        round(report_after['1']['precision'], 4),\n",
    "        round(report_after['1']['recall'], 4),\n",
    "        round(report_after['1']['f1-score'], 4)\n",
    "    ]\n",
    "})\n",
    "\n",
    "print(\"\\n Performance Comparison:\")\n",
    "print(comparison.to_string(index=False))"
   ]
  },
  {
   "cell_type": "code",
   "execution_count": 21,
   "id": "bad67b15-5249-4947-b589-17ccb423ee4b",
   "metadata": {},
   "outputs": [
    {
     "name": "stdout",
     "output_type": "stream",
     "text": [
      "\n",
      " Analysis:\n",
      "SMOTE (Synthetic Minority Oversampling) helped balance the dataset by generating synthetic minority class samples.\n",
      "This often improves recall and F1-score, especially for fraud detection where missing a fraud case is critical.\n",
      "However, it may reduce precision slightly due to more false positives.\n"
     ]
    }
   ],
   "source": [
    "print(\"\\n Analysis:\")\n",
    "print(\"SMOTE (Synthetic Minority Oversampling) helped balance the dataset by generating synthetic minority class samples.\")\n",
    "print(\"This often improves recall and F1-score, especially for fraud detection where missing a fraud case is critical.\")\n",
    "print(\"However, it may reduce precision slightly due to more false positives.\")"
   ]
  },
  {
   "cell_type": "code",
   "execution_count": null,
   "id": "ca839468-8fa9-4889-b73a-ccd7a044ba93",
   "metadata": {},
   "outputs": [],
   "source": []
  }
 ],
 "metadata": {
  "kernelspec": {
   "display_name": "Python 3 (ipykernel)",
   "language": "python",
   "name": "python3"
  },
  "language_info": {
   "codemirror_mode": {
    "name": "ipython",
    "version": 3
   },
   "file_extension": ".py",
   "mimetype": "text/x-python",
   "name": "python",
   "nbconvert_exporter": "python",
   "pygments_lexer": "ipython3",
   "version": "3.12.7"
  }
 },
 "nbformat": 4,
 "nbformat_minor": 5
}
