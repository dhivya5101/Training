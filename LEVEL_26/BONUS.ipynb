{
 "cells": [
  {
   "cell_type": "code",
   "execution_count": 3,
   "id": "8d8ff8ce-279f-4944-828c-776729e210bc",
   "metadata": {},
   "outputs": [],
   "source": [
    "import pandas as pd\n",
    "import tensorflow as tf\n",
    "import time"
   ]
  },
  {
   "cell_type": "code",
   "execution_count": 4,
   "id": "e739e2c5-4870-41ea-bd38-086ce3b7c3ae",
   "metadata": {},
   "outputs": [
    {
     "data": {
      "text/html": [
       "<div>\n",
       "<style scoped>\n",
       "    .dataframe tbody tr th:only-of-type {\n",
       "        vertical-align: middle;\n",
       "    }\n",
       "\n",
       "    .dataframe tbody tr th {\n",
       "        vertical-align: top;\n",
       "    }\n",
       "\n",
       "    .dataframe thead th {\n",
       "        text-align: right;\n",
       "    }\n",
       "</style>\n",
       "<table border=\"1\" class=\"dataframe\">\n",
       "  <thead>\n",
       "    <tr style=\"text-align: right;\">\n",
       "      <th></th>\n",
       "      <th>review</th>\n",
       "      <th>sentiment</th>\n",
       "    </tr>\n",
       "  </thead>\n",
       "  <tbody>\n",
       "    <tr>\n",
       "      <th>0</th>\n",
       "      <td>One of the other reviewers has mentioned that ...</td>\n",
       "      <td>positive</td>\n",
       "    </tr>\n",
       "    <tr>\n",
       "      <th>1</th>\n",
       "      <td>A wonderful little production. &lt;br /&gt;&lt;br /&gt;The...</td>\n",
       "      <td>positive</td>\n",
       "    </tr>\n",
       "    <tr>\n",
       "      <th>2</th>\n",
       "      <td>I thought this was a wonderful way to spend ti...</td>\n",
       "      <td>positive</td>\n",
       "    </tr>\n",
       "    <tr>\n",
       "      <th>3</th>\n",
       "      <td>Basically there's a family where a little boy ...</td>\n",
       "      <td>negative</td>\n",
       "    </tr>\n",
       "    <tr>\n",
       "      <th>4</th>\n",
       "      <td>Petter Mattei's \"Love in the Time of Money\" is...</td>\n",
       "      <td>positive</td>\n",
       "    </tr>\n",
       "  </tbody>\n",
       "</table>\n",
       "</div>"
      ],
      "text/plain": [
       "                                              review sentiment\n",
       "0  One of the other reviewers has mentioned that ...  positive\n",
       "1  A wonderful little production. <br /><br />The...  positive\n",
       "2  I thought this was a wonderful way to spend ti...  positive\n",
       "3  Basically there's a family where a little boy ...  negative\n",
       "4  Petter Mattei's \"Love in the Time of Money\" is...  positive"
      ]
     },
     "execution_count": 4,
     "metadata": {},
     "output_type": "execute_result"
    }
   ],
   "source": [
    "data=pd.read_csv(\"IMDB Dataset.csv\")\n",
    "data.head()"
   ]
  },
  {
   "cell_type": "code",
   "execution_count": 7,
   "id": "f930ef13-13d2-45b2-88e2-6fb2df5752cf",
   "metadata": {},
   "outputs": [
    {
     "name": "stdout",
     "output_type": "stream",
     "text": [
      "Index(['review', 'sentiment'], dtype='object')\n"
     ]
    }
   ],
   "source": [
    "print(data.columns)"
   ]
  },
  {
   "cell_type": "code",
   "execution_count": 9,
   "id": "2b6bb6f0-3006-4dea-b334-23d5f6972779",
   "metadata": {},
   "outputs": [],
   "source": [
    "texts = data['review'].values\n",
    "labels = data['sentiment'].map({'positive': 1, 'negative': 0}).values\n"
   ]
  },
  {
   "cell_type": "code",
   "execution_count": 19,
   "id": "90307efc-bab6-41ef-9047-c0acf4ed45e5",
   "metadata": {},
   "outputs": [],
   "source": [
    "dataset = dataset.shuffle(buffer_size=len(texts), seed=42)\n",
    "train_size = int(0.8 * len(texts))\n",
    "train_ds = dataset.take(train_size)\n",
    "test_ds = dataset.skip(train_size)\n"
   ]
  },
  {
   "cell_type": "code",
   "execution_count": 33,
   "id": "a099eaae-5d94-4821-b831-1adb8c5771ce",
   "metadata": {},
   "outputs": [],
   "source": [
    "def preprocess(text, label):\n",
    "    text = vectorize_layer(text) \n",
    "    return text, label"
   ]
  },
  {
   "cell_type": "code",
   "execution_count": 35,
   "id": "cf9f72f7-ed62-404c-a5be-c836d7b7b4f3",
   "metadata": {},
   "outputs": [],
   "source": [
    "train_ds_no_opt = train_ds.map(preprocess).batch(32)\n",
    "\n",
    "train_ds_opt = (\n",
    "    train_ds\n",
    "    .map(preprocess, num_parallel_calls=tf.data.AUTOTUNE)\n",
    "    .cache()\n",
    "    .prefetch(tf.data.AUTOTUNE)\n",
    "    .batch(32)\n",
    ")\n"
   ]
  },
  {
   "cell_type": "code",
   "execution_count": 37,
   "id": "758b36bc-60b3-42c3-8b54-8ee21b8731c3",
   "metadata": {},
   "outputs": [
    {
     "name": "stderr",
     "output_type": "stream",
     "text": [
      "C:\\Users\\lenovo\\anaconda3\\Lib\\site-packages\\keras\\src\\layers\\core\\embedding.py:90: UserWarning: Argument `input_length` is deprecated. Just remove it.\n",
      "  warnings.warn(\n"
     ]
    }
   ],
   "source": [
    "model = tf.keras.Sequential([\n",
    "    tf.keras.layers.Embedding(input_dim=10000, output_dim=64, input_length=250),\n",
    "    tf.keras.layers.Bidirectional(tf.keras.layers.LSTM(64)),\n",
    "    tf.keras.layers.Dense(64, activation='relu'),\n",
    "    tf.keras.layers.Dense(1, activation='sigmoid')\n",
    "])\n",
    "\n",
    "model.compile(\n",
    "    optimizer='adam',\n",
    "    loss='binary_crossentropy',\n",
    "    metrics=['accuracy']\n",
    ")"
   ]
  },
  {
   "cell_type": "code",
   "execution_count": 39,
   "id": "dc0e19a4-13cc-4126-92f0-5bf10469fdd9",
   "metadata": {},
   "outputs": [
    {
     "name": "stdout",
     "output_type": "stream",
     "text": [
      "Epoch 1/3\n",
      "\u001b[1m1250/1250\u001b[0m \u001b[32m━━━━━━━━━━━━━━━━━━━━\u001b[0m\u001b[37m\u001b[0m \u001b[1m105s\u001b[0m 79ms/step - accuracy: 0.7011 - loss: 0.5525\n",
      "Epoch 2/3\n",
      "\u001b[1m1250/1250\u001b[0m \u001b[32m━━━━━━━━━━━━━━━━━━━━\u001b[0m\u001b[37m\u001b[0m \u001b[1m119s\u001b[0m 61ms/step - accuracy: 0.7085 - loss: 0.5634\n",
      "Epoch 3/3\n",
      "\u001b[1m1250/1250\u001b[0m \u001b[32m━━━━━━━━━━━━━━━━━━━━\u001b[0m\u001b[37m\u001b[0m \u001b[1m71s\u001b[0m 57ms/step - accuracy: 0.8614 - loss: 0.3288\n"
     ]
    }
   ],
   "source": [
    "start_time_no_opt = time.time()\n",
    "model.fit(train_ds_no_opt, epochs=3)\n",
    "end_time_no_opt = time.time()\n"
   ]
  },
  {
   "cell_type": "code",
   "execution_count": 41,
   "id": "68134dcd-a9c2-4f2f-832c-7fba1e1c4a3f",
   "metadata": {},
   "outputs": [
    {
     "name": "stdout",
     "output_type": "stream",
     "text": [
      "Epoch 1/3\n",
      "\u001b[1m1250/1250\u001b[0m \u001b[32m━━━━━━━━━━━━━━━━━━━━\u001b[0m\u001b[37m\u001b[0m \u001b[1m65s\u001b[0m 52ms/step - accuracy: 0.8826 - loss: 0.2771\n",
      "Epoch 2/3\n",
      "\u001b[1m1250/1250\u001b[0m \u001b[32m━━━━━━━━━━━━━━━━━━━━\u001b[0m\u001b[37m\u001b[0m \u001b[1m70s\u001b[0m 56ms/step - accuracy: 0.9225 - loss: 0.2041\n",
      "Epoch 3/3\n",
      "\u001b[1m1250/1250\u001b[0m \u001b[32m━━━━━━━━━━━━━━━━━━━━\u001b[0m\u001b[37m\u001b[0m \u001b[1m70s\u001b[0m 56ms/step - accuracy: 0.9418 - loss: 0.1649\n"
     ]
    }
   ],
   "source": [
    "start_time_opt = time.time()\n",
    "model.fit(train_ds_opt, epochs=3)\n",
    "end_time_opt = time.time()"
   ]
  },
  {
   "cell_type": "code",
   "execution_count": 43,
   "id": "0b50d1ea-9a24-47ad-b304-bd6166456e17",
   "metadata": {},
   "outputs": [
    {
     "name": "stdout",
     "output_type": "stream",
     "text": [
      "\n",
      "Training time WITHOUT optimization: 295.13 seconds\n",
      "Training time WITH optimization: 204.41 seconds\n"
     ]
    }
   ],
   "source": [
    "no_opt_time = end_time_no_opt - start_time_no_opt\n",
    "opt_time = end_time_opt - start_time_opt\n",
    "\n",
    "print(\"\\nTraining time WITHOUT optimization: {:.2f} seconds\".format(no_opt_time))\n",
    "print(\"Training time WITH optimization: {:.2f} seconds\".format(opt_time))"
   ]
  },
  {
   "cell_type": "code",
   "execution_count": 45,
   "id": "dd25e093-2f32-4c59-a21f-c7e46955d444",
   "metadata": {},
   "outputs": [
    {
     "name": "stdout",
     "output_type": "stream",
     "text": [
      "Training Time Comparison Table:\n",
      "\n",
      "                   Experiment  Training Time (seconds)\n",
      "0  Without Optimized Pipeline               295.132099\n",
      "1     With Optimized Pipeline               204.410146\n"
     ]
    }
   ],
   "source": [
    "time_comparison = pd.DataFrame({\n",
    "    \"Experiment\": [\"Without Optimized Pipeline\", \"With Optimized Pipeline\"],\n",
    "    \"Training Time (seconds)\": [no_opt_time, opt_time]\n",
    "})\n",
    "\n",
    "print(\"Training Time Comparison Table:\\n\")\n",
    "print(time_comparison)"
   ]
  },
  {
   "cell_type": "code",
   "execution_count": 65,
   "id": "87c7effe-2890-48b7-b51b-3f8fdd36f9ce",
   "metadata": {},
   "outputs": [
    {
     "name": "stdout",
     "output_type": "stream",
     "text": [
      "Requirement already satisfied: graphviz in c:\\users\\lenovo\\anaconda3\\lib\\site-packages (0.20.3)\n"
     ]
    }
   ],
   "source": [
    "!pip install graphviz\n"
   ]
  },
  {
   "cell_type": "code",
   "execution_count": 71,
   "id": "c467fb26-bf2a-49bd-b075-a0b62da6ed2b",
   "metadata": {},
   "outputs": [
    {
     "data": {
      "image/png": "[encoded data removed]",
      "text/plain": [
       "<Figure size 1000x600 with 1 Axes>"
      ]
     },
     "metadata": {},
     "output_type": "display_data"
    }
   ],
   "source": [
    "import matplotlib.pyplot as plt\n",
    "import matplotlib.patches as patches\n",
    "\n",
    "fig, ax = plt.subplots(figsize=(10, 6))\n",
    "\n",
    "ax.add_patch(patches.FancyBboxPatch((0.1, 0.8), 0.3, 0.1, boxstyle=\"round,pad=0.05\", facecolor='lightblue', edgecolor='black', linewidth=2))\n",
    "ax.text(0.25, 0.85, 'Load Data\\n(from_tensor_slices)', fontsize=10, ha='center')\n",
    "\n",
    "ax.add_patch(patches.FancyBboxPatch((0.1, 0.6), 0.3, 0.1, boxstyle=\"round,pad=0.05\", facecolor='lightgreen', edgecolor='black', linewidth=2))\n",
    "ax.text(0.25, 0.65, 'Map\\n(Preprocessing: Tokenization/Resize)', fontsize=10, ha='center')\n",
    "\n",
    "ax.add_patch(patches.FancyBboxPatch((0.1, 0.4), 0.3, 0.1, boxstyle=\"round,pad=0.05\", facecolor='lightyellow', edgecolor='black', linewidth=2))\n",
    "ax.text(0.25, 0.45, 'Cache\\n(Memory)', fontsize=10, ha='center')\n",
    "\n",
    "ax.add_patch(patches.FancyBboxPatch((0.1, 0.2), 0.3, 0.1, boxstyle=\"round,pad=0.05\", facecolor='lightcoral', edgecolor='black', linewidth=2))\n",
    "ax.text(0.25, 0.25, 'Batch\\n(32 samples)', fontsize=10, ha='center')\n",
    "\n",
    "ax.add_patch(patches.FancyBboxPatch((0.1, 0.0), 0.3, 0.1, boxstyle=\"round,pad=0.05\", facecolor='lightpink', edgecolor='black', linewidth=2))\n",
    "ax.text(0.25, 0.05, 'Prefetch\\n(tf.data.AUTOTUNE)', fontsize=10, ha='center')\n",
    "\n",
    "ax.add_patch(patches.FancyBboxPatch((0.55, 0.8), 0.3, 0.1, boxstyle=\"round,pad=0.05\", facecolor='lightblue', edgecolor='black', linewidth=2))\n",
    "ax.text(0.7, 0.85, 'Model Training', fontsize=10, ha='center')\n",
    "\n",
    "ax.annotate('', xy=(0.25, 0.8), xytext=(0.25, 0.7), arrowprops=dict(facecolor='black', arrowstyle='->'))\n",
    "ax.annotate('', xy=(0.25, 0.6), xytext=(0.25, 0.5), arrowprops=dict(facecolor='black', arrowstyle='->'))\n",
    "ax.annotate('', xy=(0.25, 0.4), xytext=(0.25, 0.3), arrowprops=dict(facecolor='black', arrowstyle='->'))\n",
    "ax.annotate('', xy=(0.25, 0.2), xytext=(0.25, 0.1), arrowprops=dict(facecolor='black', arrowstyle='->'))\n",
    "ax.annotate('', xy=(0.25, 0.0), xytext=(0.25, -0.1), arrowprops=dict(facecolor='black', arrowstyle='->'))\n",
    "ax.annotate('', xy=(0.4, 0.8), xytext=(0.55, 0.8), arrowprops=dict(facecolor='black', arrowstyle='->'))\n",
    "\n",
    "ax.set_xlim(0, 1)\n",
    "ax.set_ylim(-0.2, 1)\n",
    "ax.axis('off')\n",
    "\n",
    "plt.show()"
   ]
  },
  {
   "cell_type": "code",
   "execution_count": null,
   "id": "650a639d-da1d-4d28-9c88-de57265717f8",
   "metadata": {},
   "outputs": [],
   "source": []
  }
 ],
 "metadata": {
  "kernelspec": {
   "display_name": "Python 3 (ipykernel)",
   "language": "python",
   "name": "python3"
  },
  "language_info": {
   "codemirror_mode": {
    "name": "ipython",
    "version": 3
   },
   "file_extension": ".py",
   "mimetype": "text/x-python",
   "name": "python",
   "nbconvert_exporter": "python",
   "pygments_lexer": "ipython3",
   "version": "3.12.7"
  }
 },
 "nbformat": 4,
 "nbformat_minor": 5
}
