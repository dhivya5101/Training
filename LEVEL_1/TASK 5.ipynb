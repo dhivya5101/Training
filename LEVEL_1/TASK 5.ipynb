{
 "cells": [
  {
   "cell_type": "code",
   "execution_count": 31,
   "id": "cfed3375-e0fa-4ce9-8b53-cf2ebbb9b0b5",
   "metadata": {},
   "outputs": [
    {
     "name": "stdin",
     "output_type": "stream",
     "text": [
      "Enter a key (string):  x\n",
      "Enter a value (integer):  1\n",
      "Enter a key (string):  y\n",
      "Enter a value (integer):  2\n",
      "Enter a key (string):  z\n",
      "Enter a value (integer):  3\n"
     ]
    },
    {
     "name": "stdout",
     "output_type": "stream",
     "text": [
      "Completed Dictionary: {}\n"
     ]
    }
   ],
   "source": [
    "dict = {}\n",
    "\n",
    "for _ in range(3):  \n",
    "    key = input(\"Enter a key (string): \")\n",
    "    value = int(input(\"Enter a value (integer): \")) \n",
    "    my_dict[key] = value \n",
    "    \n",
    "print(\"Completed Dictionary:\", dict)"
   ]
  },
  {
   "cell_type": "code",
   "execution_count": null,
   "id": "e090c697-a9e2-4bfd-ae25-0cecda8d87ec",
   "metadata": {},
   "outputs": [],
   "source": []
  }
 ],
 "metadata": {
  "kernelspec": {
   "display_name": "Python 3 (ipykernel)",
   "language": "python",
   "name": "python3"
  },
  "language_info": {
   "codemirror_mode": {
    "name": "ipython",
    "version": 3
   },
   "file_extension": ".py",
   "mimetype": "text/x-python",
   "name": "python",
   "nbconvert_exporter": "python",
   "pygments_lexer": "ipython3",
   "version": "3.12.7"
  }
 },
 "nbformat": 4,
 "nbformat_minor": 5
}
