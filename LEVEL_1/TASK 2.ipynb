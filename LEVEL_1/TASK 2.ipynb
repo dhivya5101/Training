{
 "cells": [
  {
   "cell_type": "code",
   "execution_count": 7,
   "id": "6458b075-ee3f-44fb-8d6d-6350cc055623",
   "metadata": {},
   "outputs": [
    {
     "name": "stdout",
     "output_type": "stream",
     "text": [
      "[1, 2, 3, 4]\n",
      "{2, 4, 6}\n",
      "{1, 3, 5}\n",
      "{'dhivya': 20, 'nisha': 21, 'kayal': 18}\n"
     ]
    }
   ],
   "source": [
    "list=[1,2,3]\n",
    "list.append(4)\n",
    "set={2,4,6}\n",
    "tuple={1,3,5}\n",
    "dict={\"dhivya\":20,\"nisha\":21}\n",
    "dict[\"kayal\"]=18\n",
    "print(list)\n",
    "print(set)\n",
    "print(tuple)\n",
    "print(dict)"
   ]
  },
  {
   "cell_type": "code",
   "execution_count": null,
   "id": "0faddfa4-ef20-4f3f-901d-fe77e103e8da",
   "metadata": {},
   "outputs": [],
   "source": []
  }
 ],
 "metadata": {
  "kernelspec": {
   "display_name": "Python 3 (ipykernel)",
   "language": "python",
   "name": "python3"
  },
  "language_info": {
   "codemirror_mode": {
    "name": "ipython",
    "version": 3
   },
   "file_extension": ".py",
   "mimetype": "text/x-python",
   "name": "python",
   "nbconvert_exporter": "python",
   "pygments_lexer": "ipython3",
   "version": "3.12.7"
  }
 },
 "nbformat": 4,
 "nbformat_minor": 5
}
