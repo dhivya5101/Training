{
 "cells": [
  {
   "cell_type": "code",
   "execution_count": 5,
   "id": "4ad47135-8fbc-4f93-afc3-71cb0071f452",
   "metadata": {},
   "outputs": [
    {
     "data": {
      "text/plain": [
       "(0.8315218406203,\n",
       " 0.7999999999999999,\n",
       " 'Both show positive correlation; Pearson higher due to near-linear relationship.')"
      ]
     },
     "execution_count": 5,
     "metadata": {},
     "output_type": "execute_result"
    }
   ],
   "source": [
    "import numpy as np\n",
    "from scipy import stats\n",
    "\n",
    "height = np.array([160, 170, 180, 175])\n",
    "weight = np.array([60, 70, 75, 65])\n",
    "\n",
    "pearson_corr, _ = stats.pearsonr(height, weight)\n",
    "spearman_corr, _ = stats.spearmanr(height, weight)\n",
    "\n",
    "comparison = \"Both show positive correlation; Pearson higher due to near-linear relationship.\"\n",
    "pearson_corr, spearman_corr, comparison\n"
   ]
  },
  {
   "cell_type": "code",
   "execution_count": null,
   "id": "c462c08f-2bb3-42dc-9ba3-1758a649ddf4",
   "metadata": {},
   "outputs": [],
   "source": []
  }
 ],
 "metadata": {
  "kernelspec": {
   "display_name": "Python 3 (ipykernel)",
   "language": "python",
   "name": "python3"
  },
  "language_info": {
   "codemirror_mode": {
    "name": "ipython",
    "version": 3
   },
   "file_extension": ".py",
   "mimetype": "text/x-python",
   "name": "python",
   "nbconvert_exporter": "python",
   "pygments_lexer": "ipython3",
   "version": "3.12.7"
  }
 },
 "nbformat": 4,
 "nbformat_minor": 5
}
