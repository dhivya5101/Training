{
 "cells": [
  {
   "cell_type": "code",
   "execution_count": 1,
   "id": "427bbe4d-767f-469b-93e9-6f598dfe635c",
   "metadata": {},
   "outputs": [
    {
     "data": {
      "text/plain": [
       "(232.494, 3.270162712012095e-51, 'Reject H₀; age distribution changed.')"
      ]
     },
     "execution_count": 1,
     "metadata": {},
     "output_type": "execute_result"
    }
   ],
   "source": [
    "import numpy as np\n",
    "from scipy import stats\n",
    "\n",
    "observed = np.array([121, 288, 91])  \n",
    "expected = np.array([100, 150, 250]) \n",
    "\n",
    "chi2_stat, p_value_chi2 = stats.chisquare(observed, expected)\n",
    "alpha = 0.05\n",
    "result_chi2 = \"Reject H₀; age distribution changed.\" if p_value_chi2 < alpha else \"Fail to reject H₀; no significant change in distribution.\"\n",
    "\n",
    "chi2_stat, p_value_chi2, result_chi2"
   ]
  },
  {
   "cell_type": "code",
   "execution_count": null,
   "id": "c138d094-69a4-4d49-9862-021493324d7c",
   "metadata": {},
   "outputs": [],
   "source": []
  }
 ],
 "metadata": {
  "kernelspec": {
   "display_name": "Python 3 (ipykernel)",
   "language": "python",
   "name": "python3"
  },
  "language_info": {
   "codemirror_mode": {
    "name": "ipython",
    "version": 3
   },
   "file_extension": ".py",
   "mimetype": "text/x-python",
   "name": "python",
   "nbconvert_exporter": "python",
   "pygments_lexer": "ipython3",
   "version": "3.12.7"
  }
 },
 "nbformat": 4,
 "nbformat_minor": 5
}
