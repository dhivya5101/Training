{
 "cells": [
  {
   "cell_type": "code",
   "execution_count": 1,
   "id": "40eca1cf-7d3d-41e5-9f2c-53c9aed02d8d",
   "metadata": {},
   "outputs": [
    {
     "data": {
      "text/plain": [
       "(45.83333333333333,\n",
       " 'Positive covariance; as height increases, weight tends to increase.')"
      ]
     },
     "execution_count": 1,
     "metadata": {},
     "output_type": "execute_result"
    }
   ],
   "source": [
    "import numpy as np\n",
    "\n",
    "height = np.array([160, 170, 180, 175])\n",
    "weight = np.array([60, 70, 75, 65])\n",
    "\n",
    "covariance = np.cov(height, weight)[0, 1]\n",
    "interpretation = \"Positive covariance; as height increases, weight tends to increase.\" if covariance > 0 else \"No positive relationship between height and weight.\"\n",
    "covariance, interpretation\n"
   ]
  },
  {
   "cell_type": "code",
   "execution_count": null,
   "id": "8878cf43-a539-4fd3-8d9c-cbf65cd68bfe",
   "metadata": {},
   "outputs": [],
   "source": []
  }
 ],
 "metadata": {
  "kernelspec": {
   "display_name": "Python 3 (ipykernel)",
   "language": "python",
   "name": "python3"
  },
  "language_info": {
   "codemirror_mode": {
    "name": "ipython",
    "version": 3
   },
   "file_extension": ".py",
   "mimetype": "text/x-python",
   "name": "python",
   "nbconvert_exporter": "python",
   "pygments_lexer": "ipython3",
   "version": "3.12.7"
  }
 },
 "nbformat": 4,
 "nbformat_minor": 5
}
