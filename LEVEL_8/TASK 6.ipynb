{
 "cells": [
  {
   "cell_type": "code",
   "execution_count": 3,
   "id": "8785b3df-e3f0-4ef6-b457-589d577d035c",
   "metadata": {},
   "outputs": [
    {
     "data": {
      "text/plain": [
       "(0.288, 'Matches theoretical P = 0.3 for Bernoulli trial.')"
      ]
     },
     "execution_count": 3,
     "metadata": {},
     "output_type": "execute_result"
    }
   ],
   "source": [
    "import numpy as np\n",
    "\n",
    "np.random.seed(42) \n",
    "bernoulli_trials = np.random.binomial(n=1, p=0.3, size=1000)\n",
    "\n",
    "simulated_p = np.mean(bernoulli_trials)\n",
    "comparison = \"Matches theoretical P = 0.3 for Bernoulli trial.\" if np.isclose(simulated_p, 0.3, atol=0.02) else \"Slight deviation due to randomness.\"\n",
    "simulated_p, comparison\n"
   ]
  },
  {
   "cell_type": "code",
   "execution_count": null,
   "id": "4973866e-26e1-4d44-9b67-a6652ca1a812",
   "metadata": {},
   "outputs": [],
   "source": []
  }
 ],
 "metadata": {
  "kernelspec": {
   "display_name": "Python 3 (ipykernel)",
   "language": "python",
   "name": "python3"
  },
  "language_info": {
   "codemirror_mode": {
    "name": "ipython",
    "version": 3
   },
   "file_extension": ".py",
   "mimetype": "text/x-python",
   "name": "python",
   "nbconvert_exporter": "python",
   "pygments_lexer": "ipython3",
   "version": "3.12.7"
  }
 },
 "nbformat": 4,
 "nbformat_minor": 5
}
