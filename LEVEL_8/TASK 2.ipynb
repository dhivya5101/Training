{
 "cells": [
  {
   "cell_type": "code",
   "execution_count": 15,
   "id": "10e11649-22cb-485e-8acc-953100eb7152",
   "metadata": {},
   "outputs": [
    {
     "data": {
      "text/plain": [
       "(11.02650809830744,\n",
       " 6.873030024288529e-12,\n",
       " 'Reject H₀; medication increases IQ (mean = 140 > 100).')"
      ]
     },
     "execution_count": 15,
     "metadata": {},
     "output_type": "execute_result"
    }
   ],
   "source": [
    "from scipy import stats\n",
    "import numpy as np\n",
    "\n",
    "alpha = 0.05\n",
    "\n",
    "\n",
    "np.random.seed(42)  \n",
    "sample_data_t = np.random.normal(loc=140, scale=20, size=30)\n",
    "\n",
    "t_score, p_value_t = stats.ttest_1samp(sample_data_t, popmean=100)\n",
    "result_t = \"Reject H₀; medication increases IQ (mean = 140 > 100).\" if p_value_t < alpha else \"Fail to reject H₀; no significant effect.\"\n",
    "t_score, p_value_t, result_t\n"
   ]
  },
  {
   "cell_type": "code",
   "execution_count": null,
   "id": "e1745d88-1b08-49c4-a3bf-edf078c1cd1a",
   "metadata": {},
   "outputs": [],
   "source": []
  }
 ],
 "metadata": {
  "kernelspec": {
   "display_name": "Python 3 (ipykernel)",
   "language": "python",
   "name": "python3"
  },
  "language_info": {
   "codemirror_mode": {
    "name": "ipython",
    "version": 3
   },
   "file_extension": ".py",
   "mimetype": "text/x-python",
   "name": "python",
   "nbconvert_exporter": "python",
   "pygments_lexer": "ipython3",
   "version": "3.12.7"
  }
 },
 "nbformat": 4,
 "nbformat_minor": 5
}
