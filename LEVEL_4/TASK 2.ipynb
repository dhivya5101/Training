{
 "cells": [
  {
   "cell_type": "code",
   "execution_count": 1,
   "id": "1795bf9c-0579-484a-a9a2-b01b20578edc",
   "metadata": {},
   "outputs": [
    {
     "name": "stdout",
     "output_type": "stream",
     "text": [
      "Collecting pypdf2\n",
      "  Downloading pypdf2-3.0.1-py3-none-any.whl.metadata (6.8 kB)\n",
      "Downloading pypdf2-3.0.1-py3-none-any.whl (232 kB)\n",
      "Installing collected packages: pypdf2\n",
      "Successfully installed pypdf2-3.0.1\n"
     ]
    }
   ],
   "source": [
    "!pip install pypdf2"
   ]
  },
  {
   "cell_type": "code",
   "execution_count": 3,
   "id": "6d9cee96-899e-4883-94d3-4911093396da",
   "metadata": {},
   "outputs": [],
   "source": [
    "import PyPDF2\n",
    "input_pdf_path = \"input.pdf\" \n",
    "output_pdf_path = \"output_encrypted.pdf\"\n",
    "password = \"dhivya@123\"  "
   ]
  },
  {
   "cell_type": "code",
   "execution_count": 5,
   "id": "bc68b05a-c577-450f-b90c-bccc01f550dc",
   "metadata": {},
   "outputs": [],
   "source": [
    "pdf_reader = PyPDF2.PdfReader(input_pdf_path)\n",
    "pdf_writer = PyPDF2.PdfWriter()"
   ]
  },
  {
   "cell_type": "code",
   "execution_count": 7,
   "id": "09b185fa-230e-4061-83cf-5bb92d12354c",
   "metadata": {},
   "outputs": [],
   "source": [
    "pdf_writer.encrypt(password)"
   ]
  },
  {
   "cell_type": "code",
   "execution_count": 11,
   "id": "9c85eb8c-67e4-4698-9adc-b61ddfa96e2a",
   "metadata": {},
   "outputs": [
    {
     "name": "stdout",
     "output_type": "stream",
     "text": [
      " Encrypted PDF saved as: output_encrypted.pdf\n"
     ]
    }
   ],
   "source": [
    "with open(output_pdf_path, \"wb\") as output_pdf:\n",
    "    pdf_writer.write(output_pdf)\n",
    "\n",
    "print(f\" Encrypted PDF saved as: {output_pdf_path}\")"
   ]
  },
  {
   "cell_type": "code",
   "execution_count": null,
   "id": "4546b83e-910d-4b4d-9009-0e231dd493b0",
   "metadata": {},
   "outputs": [],
   "source": []
  }
 ],
 "metadata": {
  "kernelspec": {
   "display_name": "Python 3 (ipykernel)",
   "language": "python",
   "name": "python3"
  },
  "language_info": {
   "codemirror_mode": {
    "name": "ipython",
    "version": 3
   },
   "file_extension": ".py",
   "mimetype": "text/x-python",
   "name": "python",
   "nbconvert_exporter": "python",
   "pygments_lexer": "ipython3",
   "version": "3.12.7"
  }
 },
 "nbformat": 4,
 "nbformat_minor": 5
}
