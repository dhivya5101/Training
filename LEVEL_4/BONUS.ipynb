{
 "cells": [
  {
   "cell_type": "code",
   "execution_count": 1,
   "id": "13408889-7d24-496e-84d9-c4f34d9770d5",
   "metadata": {},
   "outputs": [
    {
     "name": "stdout",
     "output_type": "stream",
     "text": [
      "SHA256 Hash: 2cf24dba5fb0a30e26e83b2ac5b9e29e1b161e5c1fa7425e73043362938b9824\n"
     ]
    }
   ],
   "source": [
    "import hashlib\n",
    "sample_string = \"hello\"\n",
    "\n",
    "encoded_string = sample_string.encode()\n",
    "hash_object = hashlib.sha256(encoded_string)\n",
    "\n",
    "hex_digest = hash_object.hexdigest()\n",
    "print(\"SHA256 Hash:\", hex_digest)"
   ]
  },
  {
   "cell_type": "code",
   "execution_count": null,
   "id": "97580371-fb98-45e2-bdae-ee672fa79d85",
   "metadata": {},
   "outputs": [],
   "source": []
  }
 ],
 "metadata": {
  "kernelspec": {
   "display_name": "Python 3 (ipykernel)",
   "language": "python",
   "name": "python3"
  },
  "language_info": {
   "codemirror_mode": {
    "name": "ipython",
    "version": 3
   },
   "file_extension": ".py",
   "mimetype": "text/x-python",
   "name": "python",
   "nbconvert_exporter": "python",
   "pygments_lexer": "ipython3",
   "version": "3.12.7"
  }
 },
 "nbformat": 4,
 "nbformat_minor": 5
}
