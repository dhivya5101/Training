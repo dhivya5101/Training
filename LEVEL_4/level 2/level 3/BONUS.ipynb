{
 "cells": [
  {
   "cell_type": "code",
   "execution_count": 3,
   "id": "21026113-f5b7-4301-b069-e86168dffa8a",
   "metadata": {},
   "outputs": [
    {
     "name": "stdout",
     "output_type": "stream",
     "text": [
      "Original List: [[8, 2], [3, 4]]\n",
      "Shallow Copy: [[8, 2], [3, 4]]\n",
      "Deep Copy: [[7, 2], [3, 4]]\n"
     ]
    }
   ],
   "source": [
    "import copy  \n",
    "original_list = [[9, 2], [3, 4]]\n",
    "\n",
    "shallow_copy = copy.copy(original_list)\n",
    "deep_copy = copy.deepcopy(original_list)\n",
    "shallow_copy[0][0] = 8  \n",
    "deep_copy[0][0] = 7  \n",
    "\n",
    "print(\"Original List:\", original_list)\n",
    "print(\"Shallow Copy:\", shallow_copy)\n",
    "print(\"Deep Copy:\", deep_copy)\n"
   ]
  },
  {
   "cell_type": "code",
   "execution_count": null,
   "id": "b2d44113-dd2b-4126-9e77-6aa60aec495f",
   "metadata": {},
   "outputs": [],
   "source": []
  }
 ],
 "metadata": {
  "kernelspec": {
   "display_name": "Python 3 (ipykernel)",
   "language": "python",
   "name": "python3"
  },
  "language_info": {
   "codemirror_mode": {
    "name": "ipython",
    "version": 3
   },
   "file_extension": ".py",
   "mimetype": "text/x-python",
   "name": "python",
   "nbconvert_exporter": "python",
   "pygments_lexer": "ipython3",
   "version": "3.12.7"
  }
 },
 "nbformat": 4,
 "nbformat_minor": 5
}
