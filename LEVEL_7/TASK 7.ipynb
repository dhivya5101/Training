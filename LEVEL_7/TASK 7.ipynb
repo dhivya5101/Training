{
 "cells": [
  {
   "cell_type": "code",
   "execution_count": 3,
   "id": "a1072880-ee4e-42a1-acd3-8fbef269f994",
   "metadata": {},
   "outputs": [
    {
     "data": {
      "text/plain": [
       "(0.029, 0.027777777777777776)"
      ]
     },
     "execution_count": 3,
     "metadata": {},
     "output_type": "execute_result"
    }
   ],
   "source": [
    "import numpy as np\n",
    "\n",
    "np.random.seed(42)  # For reproducibility\n",
    "rolls_1 = np.random.randint(1, 7, 1000)  # First roll\n",
    "rolls_2 = np.random.randint(1, 7, 1000)  # Second roll\n",
    "\n",
    "count_5_then_4 = np.sum((rolls_1 == 5) & (rolls_2 == 4))\n",
    "\n",
    "simulated_probability = count_5_then_4 / 1000\n",
    "theoretical_probability = (1/6) * (1/6)  # 1/36\n",
    "simulated_probability, theoretical_probability"
   ]
  },
  {
   "cell_type": "code",
   "execution_count": null,
   "id": "1c533a6f-89c0-498b-b9f9-d98c9a8cf914",
   "metadata": {},
   "outputs": [],
   "source": []
  }
 ],
 "metadata": {
  "kernelspec": {
   "display_name": "Python 3 (ipykernel)",
   "language": "python",
   "name": "python3"
  },
  "language_info": {
   "codemirror_mode": {
    "name": "ipython",
    "version": 3
   },
   "file_extension": ".py",
   "mimetype": "text/x-python",
   "name": "python",
   "nbconvert_exporter": "python",
   "pygments_lexer": "ipython3",
   "version": "3.12.7"
  }
 },
 "nbformat": 4,
 "nbformat_minor": 5
}
