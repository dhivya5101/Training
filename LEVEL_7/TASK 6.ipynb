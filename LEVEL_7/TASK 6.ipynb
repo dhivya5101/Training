{
 "cells": [
  {
   "cell_type": "code",
   "execution_count": 3,
   "id": "f602e741-1c5a-49b5-b15f-e7e7f10c0ef9",
   "metadata": {},
   "outputs": [
    {
     "data": {
      "text/plain": [
       "0.3076923076923077"
      ]
     },
     "execution_count": 3,
     "metadata": {},
     "output_type": "execute_result"
    }
   ],
   "source": [
    "P_Queen = 4 / 52    \n",
    "P_Heart = 13 / 52     \n",
    "P_Queen_and_Heart = 1 / 52 \n",
    "\n",
    "P_Queen_or_Heart = P_Queen + P_Heart - P_Queen_and_Heart\n",
    "\n",
    "P_Queen_or_Heart"
   ]
  },
  {
   "cell_type": "code",
   "execution_count": null,
   "id": "1ef0ba4a-6363-46f4-91a5-701934ff6d15",
   "metadata": {},
   "outputs": [],
   "source": []
  }
 ],
 "metadata": {
  "kernelspec": {
   "display_name": "Python 3 (ipykernel)",
   "language": "python",
   "name": "python3"
  },
  "language_info": {
   "codemirror_mode": {
    "name": "ipython",
    "version": 3
   },
   "file_extension": ".py",
   "mimetype": "text/x-python",
   "name": "python",
   "nbconvert_exporter": "python",
   "pygments_lexer": "ipython3",
   "version": "3.12.7"
  }
 },
 "nbformat": 4,
 "nbformat_minor": 5
}
