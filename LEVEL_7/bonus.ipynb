{
 "cells": [
  {
   "cell_type": "code",
   "execution_count": 1,
   "id": "1a7e1c3d-5901-4301-8bec-4f3770a1649d",
   "metadata": {},
   "outputs": [
    {
     "data": {
      "text/plain": [
       "(0.005, 0.006033182503770739)"
      ]
     },
     "execution_count": 1,
     "metadata": {},
     "output_type": "execute_result"
    }
   ],
   "source": [
    "import numpy as np\n",
    "deck = ['Q'] * 4 + ['A'] * 4 + ['O'] * 44  \n",
    "\n",
    "num_trials = 1000\n",
    "count_q_then_a = 0\n",
    "\n",
    "np.random.seed(42) \n",
    "for _ in range(num_trials):\n",
    "    sampled_cards = np.random.choice(deck, size=2, replace=False)\n",
    "    if sampled_cards[0] == 'Q' and sampled_cards[1] == 'A':\n",
    "        count_q_then_a += 1\n",
    "\n",
    "simulated_probability = count_q_then_a / num_trials\n",
    "theoretical_probability = (4/52) * (4/51)  # 4/663\n",
    "simulated_probability, theoretical_probability"
   ]
  },
  {
   "cell_type": "code",
   "execution_count": null,
   "id": "4af24c92-5460-4932-a4b4-fa6e4b61c853",
   "metadata": {},
   "outputs": [],
   "source": []
  }
 ],
 "metadata": {
  "kernelspec": {
   "display_name": "Python 3 (ipykernel)",
   "language": "python",
   "name": "python3"
  },
  "language_info": {
   "codemirror_mode": {
    "name": "ipython",
    "version": 3
   },
   "file_extension": ".py",
   "mimetype": "text/x-python",
   "name": "python",
   "nbconvert_exporter": "python",
   "pygments_lexer": "ipython3",
   "version": "3.12.7"
  }
 },
 "nbformat": 4,
 "nbformat_minor": 5
}
