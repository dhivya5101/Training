{
 "cells": [
  {
   "cell_type": "code",
   "execution_count": 1,
   "id": "39ded02b-8ecd-4e26-82df-48ab60e9ac4a",
   "metadata": {},
   "outputs": [
    {
     "name": "stdin",
     "output_type": "stream",
     "text": [
      "Enter student name:  dhivya\n",
      "Enter grade (0-100):  98\n",
      "Enter student name:  gopi\n",
      "Enter grade (0-100):  98\n",
      "Enter student name:  priya\n",
      "Enter grade (0-100):  95\n",
      "Enter student name:  daksh\n",
      "Enter grade (0-100):  90\n",
      "Enter student name:  logesh \n",
      "Enter grade (0-100):  80\n"
     ]
    },
    {
     "name": "stdout",
     "output_type": "stream",
     "text": [
      "Average Grade: 92.20\n",
      "Number of Passing Students: 5\n"
     ]
    }
   ],
   "source": [
    "students = []\n",
    "\n",
    "for _ in range(5):\n",
    "    name = input(\"Enter student name: \")\n",
    "    grade = float(input(\"Enter grade (0-100): \"))\n",
    "    students.append((name, grade)) \n",
    "\n",
    "def calculate_average(students_list):\n",
    "    total = sum(grade for _, grade in students_list)\n",
    "    return total / len(students_list)\n",
    "\n",
    "def count_passing(students_list, pass_mark=60):\n",
    "    return sum(1 for _, grade in students_list if grade >= pass_mark)\n",
    "\n",
    "average_grade = calculate_average(students)\n",
    "passing_count = count_passing(students)\n",
    "print(f\"Average Grade: {average_grade:.2f}\")\n",
    "print(f\"Number of Passing Students: {passing_count}\")"
   ]
  },
  {
   "cell_type": "code",
   "execution_count": null,
   "id": "c4c72d39-03d5-4b58-8088-e6187094c6eb",
   "metadata": {},
   "outputs": [],
   "source": []
  }
 ],
 "metadata": {
  "kernelspec": {
   "display_name": "Python 3 (ipykernel)",
   "language": "python",
   "name": "python3"
  },
  "language_info": {
   "codemirror_mode": {
    "name": "ipython",
    "version": 3
   },
   "file_extension": ".py",
   "mimetype": "text/x-python",
   "name": "python",
   "nbconvert_exporter": "python",
   "pygments_lexer": "ipython3",
   "version": "3.12.7"
  }
 },
 "nbformat": 4,
 "nbformat_minor": 5
}
