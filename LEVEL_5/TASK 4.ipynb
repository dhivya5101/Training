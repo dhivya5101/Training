{
 "cells": [
  {
   "cell_type": "code",
   "execution_count": 3,
   "id": "7a5f8244-a875-4a8d-af5a-2a5b06df2c65",
   "metadata": {},
   "outputs": [
    {
     "name": "stdin",
     "output_type": "stream",
     "text": [
      "Enter a short text message:  good morning\n"
     ]
    },
    {
     "name": "stdout",
     "output_type": "stream",
     "text": [
      "SHA256 Hash: cdf71dea7d7741a2b6f021f3dd344f75c8333988f547866a8fbf28f064cf7c78\n"
     ]
    }
   ],
   "source": [
    "import hashlib\n",
    "\n",
    "message = input(\"Enter a short text message: \")\n",
    "\n",
    "with open(\"message.txt\", \"w\") as file:\n",
    "    file.write(message)\n",
    "    \n",
    "with open(\"message.txt\", \"r\") as file:\n",
    "    file_content = file.read()\n",
    "\n",
    "hashed_content = hashlib.sha256(file_content.encode()).hexdigest()\n",
    "\n",
    "with open(\"encrypted.txt\", \"w\") as file:\n",
    "    file.write(hashed_content)\n",
    "\n",
    "print(\"SHA256 Hash:\", hashed_content)"
   ]
  },
  {
   "cell_type": "code",
   "execution_count": null,
   "id": "416bc4f2-0e78-4f2b-a2e5-b893b136a983",
   "metadata": {},
   "outputs": [],
   "source": []
  }
 ],
 "metadata": {
  "kernelspec": {
   "display_name": "Python 3 (ipykernel)",
   "language": "python",
   "name": "python3"
  },
  "language_info": {
   "codemirror_mode": {
    "name": "ipython",
    "version": 3
   },
   "file_extension": ".py",
   "mimetype": "text/x-python",
   "name": "python",
   "nbconvert_exporter": "python",
   "pygments_lexer": "ipython3",
   "version": "3.12.7"
  }
 },
 "nbformat": 4,
 "nbformat_minor": 5
}
