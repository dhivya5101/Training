{
 "cells": [
  {
   "cell_type": "code",
   "execution_count": 1,
   "id": "b2e010f2-930d-4b15-a0df-76b5550b0b41",
   "metadata": {},
   "outputs": [
    {
     "name": "stdout",
     "output_type": "stream",
     "text": [
      "Income: $4200, Expenses: $2500, Balance: $1700\n"
     ]
    }
   ],
   "source": [
    "income = {\"Salary\": 3000,\"Freelance\": 1200}\n",
    "expenses = {\"Rent\": 1500,\"Food\": 500,\"Utilities\": 300,\"Entertainment\": 200}\n",
    "\n",
    "def calculate_total_income(income_dict):\n",
    "    return sum(income_dict.values())\n",
    "\n",
    "def calculate_total_expenses(expense_dict):\n",
    "    return sum(expense_dict.values())\n",
    "\n",
    "total_income = calculate_total_income(income)\n",
    "total_expenses = calculate_total_expenses(expenses)\n",
    "balance = total_income - total_expenses\n",
    "\n",
    "print(f\"Income: ${total_income}, Expenses: ${total_expenses}, Balance: ${balance}\")"
   ]
  },
  {
   "cell_type": "code",
   "execution_count": null,
   "id": "f6463fb6-d5e0-4ef3-92b4-106f8066c495",
   "metadata": {},
   "outputs": [],
   "source": []
  }
 ],
 "metadata": {
  "kernelspec": {
   "display_name": "Python 3 (ipykernel)",
   "language": "python",
   "name": "python3"
  },
  "language_info": {
   "codemirror_mode": {
    "name": "ipython",
    "version": 3
   },
   "file_extension": ".py",
   "mimetype": "text/x-python",
   "name": "python",
   "nbconvert_exporter": "python",
   "pygments_lexer": "ipython3",
   "version": "3.12.7"
  }
 },
 "nbformat": 4,
 "nbformat_minor": 5
}
