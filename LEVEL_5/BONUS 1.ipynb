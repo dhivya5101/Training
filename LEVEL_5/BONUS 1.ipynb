{
 "cells": [
  {
   "cell_type": "code",
   "execution_count": 3,
   "id": "3dbbe2db-7496-4a3c-a6e2-e429352ff451",
   "metadata": {},
   "outputs": [
    {
     "name": "stdout",
     "output_type": "stream",
     "text": [
      "Processing complete. Check data_processing.log for details.\n"
     ]
    }
   ],
   "source": [
    "import threading\n",
    "import logging\n",
    "import pandas as pd\n",
    "\n",
    "logging.basicConfig(filename=\"data_processing.log\", level=logging.INFO, \n",
    "                    format=\"%(asctime)s - %(levelname)s - %(message)s\")\n",
    "\n",
    "def process_csv(file_path, column_name):\n",
    "    logging.info(f\"Started processing {file_path}\")\n",
    "    try:\n",
    "        df = pd.read_csv(file_path)\n",
    "        mean_value = df[column_name].mean()\n",
    "        logging.info(f\"Finished processing {file_path}. Mean of {column_name}: {mean_value}\")\n",
    "        print(f\"Mean of {column_name} in {file_path}: {mean_value}\")\n",
    "    except Exception as e:\n",
    "        logging.error(f\"Error processing {file_path}: {e}\")\n",
    "\n",
    "file1, column1 = \"data1.csv\", \"column_name\"\n",
    "file2, column2 = \"data2.csv\", \"column_name\"\n",
    "\n",
    "t1 = threading.Thread(target=process_csv, args=(file1, column1))\n",
    "t2 = threading.Thread(target=process_csv, args=(file2, column2))\n",
    "\n",
    "t1.start()\n",
    "t2.start()\n",
    "\n",
    "t1.join()\n",
    "t2.join()\n",
    "\n",
    "print(\"Processing complete. Check data_processing.log for details.\")"
   ]
  },
  {
   "cell_type": "code",
   "execution_count": null,
   "id": "8b8a6906-1aeb-44cb-b2fb-340920ce80f7",
   "metadata": {},
   "outputs": [],
   "source": []
  }
 ],
 "metadata": {
  "kernelspec": {
   "display_name": "Python 3 (ipykernel)",
   "language": "python",
   "name": "python3"
  },
  "language_info": {
   "codemirror_mode": {
    "name": "ipython",
    "version": 3
   },
   "file_extension": ".py",
   "mimetype": "text/x-python",
   "name": "python",
   "nbconvert_exporter": "python",
   "pygments_lexer": "ipython3",
   "version": "3.12.7"
  }
 },
 "nbformat": 4,
 "nbformat_minor": 5
}
